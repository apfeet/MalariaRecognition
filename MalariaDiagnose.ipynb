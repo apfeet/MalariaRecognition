{
 "cells": [
  {
   "cell_type": "code",
   "execution_count": 1,
   "id": "f0bf2365",
   "metadata": {},
   "outputs": [
    {
     "name": "stderr",
     "output_type": "stream",
     "text": [
      "c:\\Users\\ottav\\anaconda3\\envs\\tensorflow\\lib\\site-packages\\tqdm\\auto.py:21: TqdmWarning: IProgress not found. Please update jupyter and ipywidgets. See https://ipywidgets.readthedocs.io/en/stable/user_install.html\n",
      "  from .autonotebook import tqdm as notebook_tqdm\n"
     ]
    },
    {
     "name": "stdout",
     "output_type": "stream",
     "text": [
      "dataset lenght 27558\n",
      "<BatchDataset element_spec=(TensorSpec(shape=(None, 224, 224, 3), dtype=tf.float32, name=None), TensorSpec(shape=(None,), dtype=tf.int64, name=None))>\n",
      "train_ds 5512\n",
      "test_ds 689\n",
      "eval_ds 690\n"
     ]
    }
   ],
   "source": [
    "import tensorflow as tf\n",
    "import tensorflow_datasets as tfds\n",
    "import pandas as pd\n",
    "import matplotlib.pyplot as plt\n",
    "from tensorflow.keras.models import Model\n",
    "from tensorflow.keras.layers import Dense,InputLayer,Normalization,Conv2D,MaxPool2D,Input\n",
    "from tensorflow.keras.optimizers import Adam\n",
    "\n",
    "dataset = tfds.load(\"malaria\",as_supervised=True,data_dir=\"D:\\Dataset\")\n",
    "\n",
    "\n",
    "ds_lenght = len(dataset['train'])\n",
    "print(f\"dataset lenght {ds_lenght}\")\n",
    "\n",
    "\n",
    "TrainRatio = 0.8\n",
    "TestRatio = 0.1\n",
    "EvalRatio = 0.1\n",
    "\n",
    "\n",
    "\n",
    "def resize_and_normalize_img(image, label):\n",
    "    image = tf.image.resize(image, [224, 224])  \n",
    "    image = tf.cast(image, tf.float32) / 255.\n",
    "    return image, label\n",
    "\n",
    "\n",
    "\n",
    "dataset['train'] = dataset['train'].map(resize_and_normalize_img, num_parallel_calls=tf.data.experimental.AUTOTUNE)\n",
    "\n",
    "\n",
    "# Splitta il dataset\n",
    "train_ds = dataset['train'].take(int(ds_lenght * TrainRatio)).batch(4)\n",
    "remaining_ds = dataset['train'].skip(int(ds_lenght * TrainRatio))\n",
    "test_ds = remaining_ds.take(int(ds_lenght * TestRatio)).batch(4)\n",
    "eval_ds = remaining_ds.skip(int(ds_lenght * TestRatio)).batch(4)\n",
    "print(train_ds)\n",
    "\n",
    "print(f\"train_ds {len(train_ds)}\")\n",
    "print(f\"test_ds {len(test_ds)}\")\n",
    "print(f\"eval_ds {len(eval_ds)}\")"
   ]
  },
  {
   "cell_type": "code",
   "execution_count": 2,
   "id": "e0f8fde1",
   "metadata": {},
   "outputs": [
    {
     "name": "stdout",
     "output_type": "stream",
     "text": [
      "GPU settata:  PhysicalDevice(name='/physical_device:GPU:0', device_type='GPU')\n",
      "Epoch 1/10\n"
     ]
    }
   ],
   "source": [
    "import tensorflow as tf\n",
    "\n",
    "# Ottieni la lista delle GPU disponibili\n",
    "gpus = tf.config.experimental.list_physical_devices('GPU')\n",
    "if gpus:\n",
    "    try:\n",
    "        for gpu in gpus:\n",
    "                tf.config.experimental.set_visible_devices(gpu, 'GPU')\n",
    "                print(\"GPU settata: \", gpu)\n",
    "    except RuntimeError as e:\n",
    "        print(e)\n",
    "\n",
    "# Definisci il tuo modello con le Functional API\n",
    "inputs = tf.keras.layers.Input(shape=(224, 224, 3))\n",
    "x = tf.keras.layers.Conv2D(filters=5, kernel_size=8, activation=\"relu\")(inputs)\n",
    "x = tf.keras.layers.MaxPool2D((8,8),(1,1))(x)\n",
    "x = tf.keras.layers.BatchNormalization()(x)\n",
    "x = tf.keras.layers.Conv2D(filters=5, kernel_size=4, activation=\"relu\")(x)\n",
    "x = tf.keras.layers.MaxPool2D((4,4),(1,1))(x)\n",
    "x = tf.keras.layers.BatchNormalization()(x)\n",
    "x = tf.keras.layers.Conv2D(filters=5, kernel_size=2, activation=\"relu\")(x)\n",
    "x = tf.keras.layers.MaxPool2D((2,2),(1,1))(x)\n",
    "x = tf.keras.layers.BatchNormalization()(x)\n",
    "x = tf.keras.layers.Flatten()(x)\n",
    "x = tf.keras.layers.Dense(128, activation='relu')(x)\n",
    "x = tf.keras.layers.BatchNormalization()(x)\n",
    "x = tf.keras.layers.Dense(64, activation='relu')(x)\n",
    "x = tf.keras.layers.BatchNormalization()(x)\n",
    "x = tf.keras.layers.Dense(32, activation='relu')(x)\n",
    "x = tf.keras.layers.BatchNormalization()(x)\n",
    "outputs = tf.keras.layers.Dense(2, activation='sigmoid')(x)\n",
    "\n",
    "model = tf.keras.Model(inputs=inputs, outputs=outputs)\n",
    "\n",
    "model.compile(optimizer='adam', \n",
    "              loss='sparse_categorical_crossentropy', \n",
    "              metrics=['accuracy'],\n",
    "              )\n",
    "\n",
    "# Addestra il tuo modello\n",
    "history = model.fit(train_ds, epochs=10, batch_size=4)\n",
    "model.save('modello.h5')\n",
    "\n",
    "plt.figure(figsize=(12, 6))\n",
    "plt.subplot(1, 2, 1)\n",
    "plt.plot(history.history['loss'], label='Loss')\n",
    "plt.title('Loss Function')\n",
    "plt.legend()\n",
    "\n",
    "# Crea un grafico per l'accuratezza\n",
    "plt.subplot(1, 2, 2)\n",
    "plt.plot(history.history['accuracy'], label='Accuracy')\n",
    "plt.title('Accuracy')\n",
    "plt.legend()\n",
    "\n",
    "plt.show()\n"
   ]
  },
  {
   "cell_type": "code",
   "execution_count": 41,
   "id": "35467113",
   "metadata": {},
   "outputs": [
    {
     "name": "stdout",
     "output_type": "stream",
     "text": [
      "1/1 [==============================] - 0s 140ms/step\n",
      "Valore predetto:  [[0.45782357 0.58897835]]\n",
      "La previsione per l'immagine è: Falso\n"
     ]
    }
   ],
   "source": [
    "import numpy as np\n",
    "from tensorflow.keras.preprocessing import image\n",
    "from tensorflow.keras.models import load_model\n",
    "\n",
    "# Carica il modello addestrato\n",
    "model = load_model('modello.h5')\n",
    "\n",
    "def predict_image(img_path):\n",
    "    # Carica l'immagine come immagine PIL in formato RGB\n",
    "    img = image.load_img(img_path, target_size=(224, 224), color_mode=\"rgb\")\n",
    "    \n",
    "    # Converti l'immagine in un array numpy e ridimensionala per il modello\n",
    "    img_array = image.img_to_array(img)\n",
    "    img_array = np.expand_dims(img_array, axis=0) / 255.0  # ricorda di normalizzare come hai fatto durante l'addestramento\n",
    "    \n",
    "    # Effettua la previsione\n",
    "    prediction = model.predict(img_array)\n",
    "    \n",
    "    # Stampa il valore predetto\n",
    "    print(\"Valore predetto: \", prediction)\n",
    "    \n",
    "    # Stampa la previsione\n",
    "    if prediction[0][0] > prediction[0][1]:\n",
    "        print(\"La previsione per l'immagine è: Vero\")\n",
    "    else:\n",
    "        print(\"La previsione per l'immagine è: Falso\")\n",
    "\n",
    "# Chiama la funzione predict_image\n",
    "predict_image(r\"c:\\Users\\ottav\\Desktop\\C124P85ThinF_IMG_20151002_154846_cell_139.png\")\n"
   ]
  },
  {
   "cell_type": "code",
   "execution_count": null,
   "id": "734a1f9c",
   "metadata": {},
   "outputs": [],
   "source": []
  }
 ],
 "metadata": {
  "kernelspec": {
   "display_name": "Python 3 (ipykernel)",
   "language": "python",
   "name": "python3"
  },
  "language_info": {
   "codemirror_mode": {
    "name": "ipython",
    "version": 3
   },
   "file_extension": ".py",
   "mimetype": "text/x-python",
   "name": "python",
   "nbconvert_exporter": "python",
   "pygments_lexer": "ipython3",
   "version": "3.10.14"
  }
 },
 "nbformat": 4,
 "nbformat_minor": 5
}
